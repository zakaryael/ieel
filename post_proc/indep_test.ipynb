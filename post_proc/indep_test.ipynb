{
 "cells": [
  {
   "cell_type": "code",
   "execution_count": 1,
   "metadata": {},
   "outputs": [],
   "source": [
    "from utils import * #does not work as expected, don't know why\n",
    "import scipy\n",
    "from scipy.stats import norm\n",
    "\n",
    "def mc_evol(y, level=0.99):\n",
    "    \"\"\"computes monte carlo evolution with confidence level bounds\"\"\"\n",
    "    n = y.shape[0]\n",
    "    nvec = np.arange(1, n+1)\n",
    "    delta = np.cumsum(y) / nvec\n",
    "    Var = np.zeros(n)\n",
    "    Var[1:] =  (np.cumsum(y**2)[1:] - nvec[1:] * (delta[1:] ** 2)) / nvec[:n-1]; Var[0] = 0\n",
    "    q = norm.interval(level)[1]\n",
    "    i1 = delta - q * np.sqrt (Var / nvec)\n",
    "    i2 = delta + q * np.sqrt (Var / nvec)\n",
    "    #return {\"delta\": delta, \"i1\": i1, \"i2\": i2}\n",
    "    return delta, i1, i2, nvec\n",
    "    \n",
    "def mc_evol_plot(evol, level, label=\"\"):\n",
    "    \"\"\"plots mc evolution with confidence bounds \"\"\"\n",
    "    estimation, lower_bound, upper_bound, xx = evol\n",
    "    plt.plot(xx, estimation, label=label)\n",
    "    #plt.fill_between(xx, lower_bound, upper_bound, alpha=.2, label=str(100*level)+'% level confidence interval')\n",
    "    plt.legend()\n",
    "\n",
    "#compute transition matrices\n",
    "    \n",
    "def transition_matrices(data, number_of_actions, number_of_states):\n",
    "    \"\"\"Computes the transition matrices\"\"\"\n",
    "    P = np.zeros((number_of_states, number_of_actions, number_of_states)) #initialize transitions array\n",
    "    for s in range(number_of_states):\n",
    "        for a in range(number_of_actions):\n",
    "            d = data.next_state[(data.current_state == s) & (data.action == a+1)]\n",
    "            freq = d.value_counts(normalize=True)\n",
    "            for state in range(number_of_states):\n",
    "                if state not in freq.index:\n",
    "                    freq.loc[state] = 0\n",
    "            P[s, a, :] = freq.sort_index()\n",
    "    return P\n",
    "\n",
    "def mixed_policy(pi, number_of_actions = 8, sim=False):\n",
    "    pi = pi.astype(int)\n",
    "    number_of_states = len(pi)\n",
    "    Pi = np.zeros((number_of_states, number_of_actions))\n",
    "    for s in range(number_of_states):\n",
    "        Pi [s, pi[s] - 1 * sim] = 1 \n",
    "    return Pi\n",
    "\n",
    "#simulate learning\n",
    "def get_next_state(current_state, action, data):\n",
    "    return np.random.choice(data.next_state[(data.current_state == current_state) & (data.action == action)]) \n",
    "\n",
    "def get_reward(current_state, action, next_state, data):\n",
    "   return np.random.choice(data.reward[(data.current_state == current_state) & (data.action == action) & (data.next_state == next_state)])\n",
    "\n",
    "def select_action(state, Pi):\n",
    "    prob = Pi[state]\n",
    "    return np.random.choice(np.arange(1,8), p=prob)\n",
    "def update_Q(Q, current_state, action, next_state, reward, gamma, alpha):\n",
    "    action -= 1\n",
    "    Q[current_state, action] = (1 - alpha) * Q[current_state, action] + alpha * (reward + gamma * Q[next_state].max())\n",
    "    return Q\n",
    "\n",
    "def update_policy(Q, pi, state, epsilon):\n",
    "    a = Q[state].argmax()\n",
    "    pi[state] = epsilon / 6\n",
    "    pi[state, a] = 1-epsilon\n",
    "    return pi\n",
    "\n",
    "def sim_ql(Qinit, Pinit, gamma, alpha0, epsilon0, T, learn, data, decreasing_lrate=True):\n",
    "    print(\"Starting QL simulation: \\n initial policy: {} \\n initial Q matrix: {} \\n gamma = {}, epsilon0 = {}, alpha0 = {}, learn = {}\".format(np.round(Pinit, 2), np.round(Qinit, 2), gamma, epsilon0, alpha0, learn ))\n",
    "    pi = Pinit\n",
    "    Q = Qinit\n",
    "    alpha = alpha0\n",
    "    epsilon = epsilon0\n",
    "    number_of_states, number_of_actions = Q.shape\n",
    "    number_of_visits = np.zeros((number_of_states, number_of_actions))\n",
    "    Qmats = np.zeros((T+1, number_of_states, number_of_actions))\n",
    "    Qmats[0] = Q\n",
    "    current_state = data.current_state.iloc[0] #always start from the same initial state (does it matter?)\n",
    "    list = []\n",
    "    for t in range(T):\n",
    "        action = select_action(current_state, pi)\n",
    "        next_state = get_next_state(current_state, action, data)\n",
    "        reward = get_reward(current_state, action, next_state, data)\n",
    "        number_of_visits[current_state, action-1] += 1\n",
    "        if decreasing_lrate: alpha = alpha0 / np.sqrt(number_of_visits[current_state, action-1])\n",
    "        Q = update_Q(Q, current_state, action, next_state, reward, gamma, alpha)\n",
    "        epsilon = epsilon0 #/ number_of_visits[current_state].sum()\n",
    "        if learn: pi = update_policy(Q, pi, current_state, epsilon)\n",
    "        Qmats[t+1] = Q\n",
    "        list.append([t, current_state, action, next_state, reward, number_of_visits[current_state, action-1]])\n",
    "        current_state = next_state\n",
    "    return pd.DataFrame(list, columns=['time', 'current_state', 'action', 'next_state', 'reward', 'state-action number of visits']), Qmats\n"
   ]
  },
  {
   "cell_type": "code",
   "execution_count": 4,
   "metadata": {},
   "outputs": [],
   "source": [
    "folder_name = 'naive3rdtest'\n",
    "dir = \"/Users/zakaryaelkhiyati/swimmers/i-eel/runs/bin/rep011/learn.bin\"\n",
    "dir1 = \"/Users/zakaryaelkhiyati/swimmers/i-eel/runs/bin/\"+ folder_name +\"/learn.bin\" # naive+\n",
    "dir2 = \"/Users/zakaryaelkhiyati/swimmers/i-eel/runs/bin/\"+ folder_name +\"/naive_snaps.bin\" # naive+ with snapshots\n"
   ]
  },
  {
   "cell_type": "code",
   "execution_count": 5,
   "metadata": {},
   "outputs": [],
   "source": [
    "file = open(dir2, 'r')\n",
    "data = np.fromfile(file, dtype=float)\n",
    "number_of_entries = int(data.shape[0] / 7) #7 corresponds to the number of stored data for each second\n",
    "data = data.reshape(number_of_entries, 7)# each second has its own row now\n",
    "header = ['time', 'action', 'current_position', 'current_state', 'next_state', 'next_position', 'reward'] #header row\n",
    "df = pd.DataFrame(data, columns=header) # naive+ with snapshots ... why not use directly the load_binary file function? there's no Q, few other minor differences\n",
    "df1, Qs = load_from_binary_file(dir1) #naive+\n",
    "df1['time'] = df1['step'] // 2000 #add time column\n",
    "df = df.convert_dtypes()\n",
    "df1 = df1.convert_dtypes()\n",
    "new_df = pd.merge(df, df1,  how='right', left_on=['time','action'], right_on = ['time','action'])#merge naive+ and naive+ with snaps for sanity checks"
   ]
  },
  {
   "cell_type": "code",
   "execution_count": 6,
   "metadata": {},
   "outputs": [],
   "source": [
    "#sample_size = 100\n",
    "time_step = 2\n",
    "#import random\n",
    "ind = np.arange(time_step, 10000 - time_step) #random.sample(range(time_step, 10000 - time_step), sample_size) #np.random.randint(time_step, 10000 - time_step, size=sample_size)\n",
    "col2 = df1.state.iloc[ind].reset_index(drop=True)\n",
    "col3 = df1.state.iloc[ind+1].reset_index(drop=True)\n",
    "col1 = df1.state.iloc[ind-time_step].reset_index(drop=True)\n",
    "\n",
    "#we have our columns let's create a dataframe table\n",
    "frame = {'past':col1, 'present':col2, 'future':col3}\n",
    "states_data = pd.DataFrame(frame)\n",
    "#now let's try to build our contingency table"
   ]
  },
  {
   "cell_type": "code",
   "execution_count": 7,
   "metadata": {},
   "outputs": [
    {
     "data": {
      "text/plain": [
       "5    4671\n",
       "4    3363\n",
       "3     674\n",
       "1     620\n",
       "0     462\n",
       "2     210\n",
       "Name: state, dtype: Int64"
      ]
     },
     "execution_count": 7,
     "metadata": {},
     "output_type": "execute_result"
    }
   ],
   "source": [
    "df1.state.value_counts()"
   ]
  },
  {
   "cell_type": "code",
   "execution_count": 8,
   "metadata": {},
   "outputs": [],
   "source": [
    "states_data\n",
    "obs = states_data[states_data.present == 5]"
   ]
  },
  {
   "cell_type": "code",
   "execution_count": 9,
   "metadata": {},
   "outputs": [
    {
     "data": {
      "text/html": [
       "<div>\n",
       "<style scoped>\n",
       "    .dataframe tbody tr th:only-of-type {\n",
       "        vertical-align: middle;\n",
       "    }\n",
       "\n",
       "    .dataframe tbody tr th {\n",
       "        vertical-align: top;\n",
       "    }\n",
       "\n",
       "    .dataframe thead th {\n",
       "        text-align: right;\n",
       "    }\n",
       "</style>\n",
       "<table border=\"1\" class=\"dataframe\">\n",
       "  <thead>\n",
       "    <tr style=\"text-align: right;\">\n",
       "      <th></th>\n",
       "      <th>past</th>\n",
       "      <th>present</th>\n",
       "      <th>future</th>\n",
       "    </tr>\n",
       "  </thead>\n",
       "  <tbody>\n",
       "    <tr>\n",
       "      <th>0</th>\n",
       "      <td>5</td>\n",
       "      <td>5</td>\n",
       "      <td>5</td>\n",
       "    </tr>\n",
       "    <tr>\n",
       "      <th>1</th>\n",
       "      <td>5</td>\n",
       "      <td>5</td>\n",
       "      <td>5</td>\n",
       "    </tr>\n",
       "    <tr>\n",
       "      <th>2</th>\n",
       "      <td>5</td>\n",
       "      <td>5</td>\n",
       "      <td>4</td>\n",
       "    </tr>\n",
       "    <tr>\n",
       "      <th>4</th>\n",
       "      <td>5</td>\n",
       "      <td>5</td>\n",
       "      <td>4</td>\n",
       "    </tr>\n",
       "    <tr>\n",
       "      <th>19</th>\n",
       "      <td>4</td>\n",
       "      <td>5</td>\n",
       "      <td>4</td>\n",
       "    </tr>\n",
       "    <tr>\n",
       "      <th>...</th>\n",
       "      <td>...</td>\n",
       "      <td>...</td>\n",
       "      <td>...</td>\n",
       "    </tr>\n",
       "    <tr>\n",
       "      <th>9982</th>\n",
       "      <td>5</td>\n",
       "      <td>5</td>\n",
       "      <td>5</td>\n",
       "    </tr>\n",
       "    <tr>\n",
       "      <th>9983</th>\n",
       "      <td>5</td>\n",
       "      <td>5</td>\n",
       "      <td>5</td>\n",
       "    </tr>\n",
       "    <tr>\n",
       "      <th>9984</th>\n",
       "      <td>5</td>\n",
       "      <td>5</td>\n",
       "      <td>5</td>\n",
       "    </tr>\n",
       "    <tr>\n",
       "      <th>9985</th>\n",
       "      <td>5</td>\n",
       "      <td>5</td>\n",
       "      <td>4</td>\n",
       "    </tr>\n",
       "    <tr>\n",
       "      <th>9987</th>\n",
       "      <td>5</td>\n",
       "      <td>5</td>\n",
       "      <td>4</td>\n",
       "    </tr>\n",
       "  </tbody>\n",
       "</table>\n",
       "<p>4669 rows × 3 columns</p>\n",
       "</div>"
      ],
      "text/plain": [
       "      past  present  future\n",
       "0        5        5       5\n",
       "1        5        5       5\n",
       "2        5        5       4\n",
       "4        5        5       4\n",
       "19       4        5       4\n",
       "...    ...      ...     ...\n",
       "9982     5        5       5\n",
       "9983     5        5       5\n",
       "9984     5        5       5\n",
       "9985     5        5       4\n",
       "9987     5        5       4\n",
       "\n",
       "[4669 rows x 3 columns]"
      ]
     },
     "execution_count": 9,
     "metadata": {},
     "output_type": "execute_result"
    }
   ],
   "source": [
    "obs"
   ]
  },
  {
   "cell_type": "code",
   "execution_count": 10,
   "metadata": {},
   "outputs": [],
   "source": [
    "def cor(u, v):\n",
    "    x = u - u.mean()\n",
    "    y = v - v.mean()\n",
    "    return x.dot(y) / (np.linalg.norm(x) * np.linalg.norm(y))\n"
   ]
  },
  {
   "cell_type": "code",
   "execution_count": 11,
   "metadata": {},
   "outputs": [
    {
     "data": {
      "text/plain": [
       "array([[1.        , 0.13484333],\n",
       "       [0.13484333, 1.        ]])"
      ]
     },
     "execution_count": 11,
     "metadata": {},
     "output_type": "execute_result"
    }
   ],
   "source": [
    "np.corrcoef(obs.past.astype(float), obs.future.astype(float))"
   ]
  },
  {
   "cell_type": "code",
   "execution_count": 12,
   "metadata": {},
   "outputs": [],
   "source": [
    "cont_table = pd.crosstab(obs.past, obs.future, margins=True)"
   ]
  },
  {
   "cell_type": "code",
   "execution_count": 13,
   "metadata": {},
   "outputs": [
    {
     "data": {
      "text/html": [
       "<div>\n",
       "<style scoped>\n",
       "    .dataframe tbody tr th:only-of-type {\n",
       "        vertical-align: middle;\n",
       "    }\n",
       "\n",
       "    .dataframe tbody tr th {\n",
       "        vertical-align: top;\n",
       "    }\n",
       "\n",
       "    .dataframe thead th {\n",
       "        text-align: right;\n",
       "    }\n",
       "</style>\n",
       "<table border=\"1\" class=\"dataframe\">\n",
       "  <thead>\n",
       "    <tr style=\"text-align: right;\">\n",
       "      <th>future</th>\n",
       "      <th>1</th>\n",
       "      <th>2</th>\n",
       "      <th>3</th>\n",
       "      <th>4</th>\n",
       "      <th>5</th>\n",
       "      <th>All</th>\n",
       "    </tr>\n",
       "    <tr>\n",
       "      <th>past</th>\n",
       "      <th></th>\n",
       "      <th></th>\n",
       "      <th></th>\n",
       "      <th></th>\n",
       "      <th></th>\n",
       "      <th></th>\n",
       "    </tr>\n",
       "  </thead>\n",
       "  <tbody>\n",
       "    <tr>\n",
       "      <th>0</th>\n",
       "      <td>0</td>\n",
       "      <td>0</td>\n",
       "      <td>0</td>\n",
       "      <td>0</td>\n",
       "      <td>1</td>\n",
       "      <td>1</td>\n",
       "    </tr>\n",
       "    <tr>\n",
       "      <th>1</th>\n",
       "      <td>1</td>\n",
       "      <td>0</td>\n",
       "      <td>0</td>\n",
       "      <td>0</td>\n",
       "      <td>17</td>\n",
       "      <td>18</td>\n",
       "    </tr>\n",
       "    <tr>\n",
       "      <th>2</th>\n",
       "      <td>0</td>\n",
       "      <td>0</td>\n",
       "      <td>0</td>\n",
       "      <td>5</td>\n",
       "      <td>16</td>\n",
       "      <td>21</td>\n",
       "    </tr>\n",
       "    <tr>\n",
       "      <th>3</th>\n",
       "      <td>0</td>\n",
       "      <td>0</td>\n",
       "      <td>0</td>\n",
       "      <td>7</td>\n",
       "      <td>7</td>\n",
       "      <td>14</td>\n",
       "    </tr>\n",
       "    <tr>\n",
       "      <th>4</th>\n",
       "      <td>0</td>\n",
       "      <td>4</td>\n",
       "      <td>1</td>\n",
       "      <td>98</td>\n",
       "      <td>472</td>\n",
       "      <td>575</td>\n",
       "    </tr>\n",
       "    <tr>\n",
       "      <th>5</th>\n",
       "      <td>0</td>\n",
       "      <td>3</td>\n",
       "      <td>0</td>\n",
       "      <td>284</td>\n",
       "      <td>3753</td>\n",
       "      <td>4040</td>\n",
       "    </tr>\n",
       "    <tr>\n",
       "      <th>All</th>\n",
       "      <td>1</td>\n",
       "      <td>7</td>\n",
       "      <td>1</td>\n",
       "      <td>394</td>\n",
       "      <td>4266</td>\n",
       "      <td>4669</td>\n",
       "    </tr>\n",
       "  </tbody>\n",
       "</table>\n",
       "</div>"
      ],
      "text/plain": [
       "future  1  2  3    4     5   All\n",
       "past                            \n",
       "0       0  0  0    0     1     1\n",
       "1       1  0  0    0    17    18\n",
       "2       0  0  0    5    16    21\n",
       "3       0  0  0    7     7    14\n",
       "4       0  4  1   98   472   575\n",
       "5       0  3  0  284  3753  4040\n",
       "All     1  7  1  394  4266  4669"
      ]
     },
     "execution_count": 13,
     "metadata": {},
     "output_type": "execute_result"
    }
   ],
   "source": [
    "cont_table"
   ]
  },
  {
   "cell_type": "code",
   "execution_count": 14,
   "metadata": {},
   "outputs": [],
   "source": [
    "chi2, p, dof, ex = scipy.stats.chi2_contingency(cont_table, correction=False)\n"
   ]
  },
  {
   "cell_type": "code",
   "execution_count": 15,
   "metadata": {},
   "outputs": [
    {
     "name": "stdout",
     "output_type": "stream",
     "text": [
      " test statistic: 384.2825984244381 \n",
      " p-value: 4.140402929830844e-63\n",
      " degrees of freedom: 30 \n",
      " 5% quantile: 18.49266098195347\n"
     ]
    }
   ],
   "source": [
    "print(\" test statistic: {} \\n p-value: {}\\n degrees of freedom: {} \\n 5% quantile: {}\".format(chi2, p, dof, scipy.stats.chi2.ppf(0.05, df=dof)))"
   ]
  },
  {
   "cell_type": "code",
   "execution_count": 16,
   "metadata": {},
   "outputs": [],
   "source": [
    "step_size = 2\n",
    "list = []\n",
    "for j in range(0, df1.shape[0] - step_size + 1):\n",
    "    new_state = (df1.state[j], )\n",
    "    for i in range(step_size-1):\n",
    "        new_state = new_state + (df1.state[j+i+1],)\n",
    "    list.append(new_state)\n",
    "\n",
    "augmented_states = pd.Series(list)"
   ]
  },
  {
   "cell_type": "code",
   "execution_count": 18,
   "metadata": {},
   "outputs": [],
   "source": [
    "ind = np.arange(1, augmented_states.shape[0] - 1)#random.sample(range(time_step, 10000 - time_step), sample_size) #np.random.randint(time_step, 10000 - time_step, size=sample_size)\n",
    "col2 = augmented_states.iloc[ind].reset_index(drop=True)\n",
    "col3 = augmented_states.iloc[ind+1].reset_index(drop=True)\n",
    "col1 = augmented_states.iloc[ind-1].reset_index(drop=True)\n",
    "\n",
    "#we have our columns let's create a dataframe table\n",
    "frame = {'past':col1, 'present':col2, 'future':col3}\n",
    "df3 = pd.DataFrame(frame)\n",
    "#now let's try to build our contingency table\n"
   ]
  },
  {
   "cell_type": "code",
   "execution_count": 19,
   "metadata": {},
   "outputs": [
    {
     "data": {
      "text/html": [
       "<div>\n",
       "<style scoped>\n",
       "    .dataframe tbody tr th:only-of-type {\n",
       "        vertical-align: middle;\n",
       "    }\n",
       "\n",
       "    .dataframe tbody tr th {\n",
       "        vertical-align: top;\n",
       "    }\n",
       "\n",
       "    .dataframe thead th {\n",
       "        text-align: right;\n",
       "    }\n",
       "</style>\n",
       "<table border=\"1\" class=\"dataframe\">\n",
       "  <thead>\n",
       "    <tr style=\"text-align: right;\">\n",
       "      <th></th>\n",
       "      <th>past</th>\n",
       "      <th>present</th>\n",
       "      <th>future</th>\n",
       "    </tr>\n",
       "  </thead>\n",
       "  <tbody>\n",
       "    <tr>\n",
       "      <th>0</th>\n",
       "      <td>(5, 5)</td>\n",
       "      <td>(5, 5)</td>\n",
       "      <td>(5, 5)</td>\n",
       "    </tr>\n",
       "    <tr>\n",
       "      <th>1</th>\n",
       "      <td>(5, 5)</td>\n",
       "      <td>(5, 5)</td>\n",
       "      <td>(5, 5)</td>\n",
       "    </tr>\n",
       "    <tr>\n",
       "      <th>2</th>\n",
       "      <td>(5, 5)</td>\n",
       "      <td>(5, 5)</td>\n",
       "      <td>(5, 4)</td>\n",
       "    </tr>\n",
       "    <tr>\n",
       "      <th>3</th>\n",
       "      <td>(5, 5)</td>\n",
       "      <td>(5, 4)</td>\n",
       "      <td>(4, 5)</td>\n",
       "    </tr>\n",
       "    <tr>\n",
       "      <th>4</th>\n",
       "      <td>(5, 4)</td>\n",
       "      <td>(4, 5)</td>\n",
       "      <td>(5, 4)</td>\n",
       "    </tr>\n",
       "    <tr>\n",
       "      <th>...</th>\n",
       "      <td>...</td>\n",
       "      <td>...</td>\n",
       "      <td>...</td>\n",
       "    </tr>\n",
       "    <tr>\n",
       "      <th>9992</th>\n",
       "      <td>(4, 4)</td>\n",
       "      <td>(4, 4)</td>\n",
       "      <td>(4, 4)</td>\n",
       "    </tr>\n",
       "    <tr>\n",
       "      <th>9993</th>\n",
       "      <td>(4, 4)</td>\n",
       "      <td>(4, 4)</td>\n",
       "      <td>(4, 4)</td>\n",
       "    </tr>\n",
       "    <tr>\n",
       "      <th>9994</th>\n",
       "      <td>(4, 4)</td>\n",
       "      <td>(4, 4)</td>\n",
       "      <td>(4, 3)</td>\n",
       "    </tr>\n",
       "    <tr>\n",
       "      <th>9995</th>\n",
       "      <td>(4, 4)</td>\n",
       "      <td>(4, 3)</td>\n",
       "      <td>(3, 0)</td>\n",
       "    </tr>\n",
       "    <tr>\n",
       "      <th>9996</th>\n",
       "      <td>(4, 3)</td>\n",
       "      <td>(3, 0)</td>\n",
       "      <td>(0, 0)</td>\n",
       "    </tr>\n",
       "  </tbody>\n",
       "</table>\n",
       "<p>9997 rows × 3 columns</p>\n",
       "</div>"
      ],
      "text/plain": [
       "        past present  future\n",
       "0     (5, 5)  (5, 5)  (5, 5)\n",
       "1     (5, 5)  (5, 5)  (5, 5)\n",
       "2     (5, 5)  (5, 5)  (5, 4)\n",
       "3     (5, 5)  (5, 4)  (4, 5)\n",
       "4     (5, 4)  (4, 5)  (5, 4)\n",
       "...      ...     ...     ...\n",
       "9992  (4, 4)  (4, 4)  (4, 4)\n",
       "9993  (4, 4)  (4, 4)  (4, 4)\n",
       "9994  (4, 4)  (4, 4)  (4, 3)\n",
       "9995  (4, 4)  (4, 3)  (3, 0)\n",
       "9996  (4, 3)  (3, 0)  (0, 0)\n",
       "\n",
       "[9997 rows x 3 columns]"
      ]
     },
     "execution_count": 19,
     "metadata": {},
     "output_type": "execute_result"
    }
   ],
   "source": [
    "df3"
   ]
  },
  {
   "cell_type": "code",
   "execution_count": 20,
   "metadata": {},
   "outputs": [
    {
     "data": {
      "text/plain": [
       "(5, 5)    4267\n",
       "(4, 4)    2566\n",
       "(5, 4)     394\n",
       "(4, 5)     380\n",
       "(1, 1)     370\n",
       "(0, 0)     344\n",
       "(3, 3)     328\n",
       "(4, 3)     258\n",
       "(3, 4)     223\n",
       "(2, 2)     139\n",
       "(1, 4)     139\n",
       "(4, 1)     127\n",
       "(3, 0)      68\n",
       "(0, 3)      59\n",
       "(3, 1)      50\n",
       "(0, 1)      50\n",
       "(1, 0)      45\n",
       "(2, 4)      34\n",
       "(1, 2)      33\n",
       "(4, 2)      28\n",
       "(1, 3)      27\n",
       "(2, 1)      22\n",
       "(2, 5)      14\n",
       "(5, 2)       7\n",
       "(0, 4)       7\n",
       "(1, 5)       6\n",
       "(4, 0)       4\n",
       "(3, 2)       3\n",
       "(3, 5)       2\n",
       "(2, 3)       1\n",
       "(5, 1)       1\n",
       "(5, 3)       1\n",
       "Name: present, dtype: int64"
      ]
     },
     "execution_count": 20,
     "metadata": {},
     "output_type": "execute_result"
    }
   ],
   "source": [
    "df3.present.value_counts()"
   ]
  },
  {
   "cell_type": "code",
   "execution_count": 21,
   "metadata": {},
   "outputs": [],
   "source": [
    "obs = df3[df3.present == list[10]]"
   ]
  },
  {
   "cell_type": "code",
   "execution_count": 22,
   "metadata": {},
   "outputs": [],
   "source": [
    "cont_table = pd.crosstab(obs.past, obs.future, margins=False)"
   ]
  },
  {
   "cell_type": "code",
   "execution_count": 23,
   "metadata": {},
   "outputs": [
    {
     "data": {
      "text/html": [
       "<div>\n",
       "<style scoped>\n",
       "    .dataframe tbody tr th:only-of-type {\n",
       "        vertical-align: middle;\n",
       "    }\n",
       "\n",
       "    .dataframe tbody tr th {\n",
       "        vertical-align: top;\n",
       "    }\n",
       "\n",
       "    .dataframe thead th {\n",
       "        text-align: right;\n",
       "    }\n",
       "</style>\n",
       "<table border=\"1\" class=\"dataframe\">\n",
       "  <thead>\n",
       "    <tr style=\"text-align: right;\">\n",
       "      <th>future</th>\n",
       "      <th>(4, 0)</th>\n",
       "      <th>(4, 1)</th>\n",
       "      <th>(4, 2)</th>\n",
       "      <th>(4, 3)</th>\n",
       "      <th>(4, 4)</th>\n",
       "      <th>(4, 5)</th>\n",
       "    </tr>\n",
       "    <tr>\n",
       "      <th>past</th>\n",
       "      <th></th>\n",
       "      <th></th>\n",
       "      <th></th>\n",
       "      <th></th>\n",
       "      <th></th>\n",
       "      <th></th>\n",
       "    </tr>\n",
       "  </thead>\n",
       "  <tbody>\n",
       "    <tr>\n",
       "      <th>(0, 4)</th>\n",
       "      <td>0</td>\n",
       "      <td>0</td>\n",
       "      <td>0</td>\n",
       "      <td>0</td>\n",
       "      <td>2</td>\n",
       "      <td>0</td>\n",
       "    </tr>\n",
       "    <tr>\n",
       "      <th>(1, 4)</th>\n",
       "      <td>0</td>\n",
       "      <td>12</td>\n",
       "      <td>0</td>\n",
       "      <td>5</td>\n",
       "      <td>74</td>\n",
       "      <td>6</td>\n",
       "    </tr>\n",
       "    <tr>\n",
       "      <th>(2, 4)</th>\n",
       "      <td>0</td>\n",
       "      <td>1</td>\n",
       "      <td>1</td>\n",
       "      <td>4</td>\n",
       "      <td>20</td>\n",
       "      <td>0</td>\n",
       "    </tr>\n",
       "    <tr>\n",
       "      <th>(3, 4)</th>\n",
       "      <td>0</td>\n",
       "      <td>14</td>\n",
       "      <td>3</td>\n",
       "      <td>31</td>\n",
       "      <td>101</td>\n",
       "      <td>1</td>\n",
       "    </tr>\n",
       "    <tr>\n",
       "      <th>(4, 4)</th>\n",
       "      <td>4</td>\n",
       "      <td>61</td>\n",
       "      <td>8</td>\n",
       "      <td>114</td>\n",
       "      <td>1546</td>\n",
       "      <td>251</td>\n",
       "    </tr>\n",
       "    <tr>\n",
       "      <th>(5, 4)</th>\n",
       "      <td>0</td>\n",
       "      <td>0</td>\n",
       "      <td>2</td>\n",
       "      <td>41</td>\n",
       "      <td>241</td>\n",
       "      <td>23</td>\n",
       "    </tr>\n",
       "  </tbody>\n",
       "</table>\n",
       "</div>"
      ],
      "text/plain": [
       "future  (4, 0)  (4, 1)  (4, 2)  (4, 3)  (4, 4)  (4, 5)\n",
       "past                                                  \n",
       "(0, 4)       0       0       0       0       2       0\n",
       "(1, 4)       0      12       0       5      74       6\n",
       "(2, 4)       0       1       1       4      20       0\n",
       "(3, 4)       0      14       3      31     101       1\n",
       "(4, 4)       4      61       8     114    1546     251\n",
       "(5, 4)       0       0       2      41     241      23"
      ]
     },
     "execution_count": 23,
     "metadata": {},
     "output_type": "execute_result"
    }
   ],
   "source": [
    "cont_table"
   ]
  },
  {
   "cell_type": "code",
   "execution_count": 24,
   "metadata": {},
   "outputs": [
    {
     "name": "stdout",
     "output_type": "stream",
     "text": [
      " test statistic: 152.15054845972074 \n",
      " p-value: 3.3808614253980314e-20\n",
      " degrees of freedom: 25 \n",
      " 5% quantile: 14.61140763948331\n"
     ]
    }
   ],
   "source": [
    "chi2, p, dof, ex = scipy.stats.chi2_contingency(cont_table, correction=False)\n",
    "print(\" test statistic: {} \\n p-value: {}\\n degrees of freedom: {} \\n 5% quantile: {}\".format(chi2, p, dof, scipy.stats.chi2.ppf(0.05, df=dof)))"
   ]
  },
  {
   "cell_type": "code",
   "execution_count": 28,
   "metadata": {},
   "outputs": [],
   "source": [
    "def chi2_stat(time_step, pr=False):\n",
    "    ind = np.arange(time_step, 10000 - time_step) #random.sample(range(time_step, 10000 - time_step), sample_size) #np.random.randint(time_step, 10000 - time_step, size=sample_size)\n",
    "    col2 = df1.state.iloc[ind].reset_index(drop=True)\n",
    "    col3 = df1.state.iloc[ind+1].reset_index(drop=True)\n",
    "    col1 = df1.state.iloc[ind-time_step].reset_index(drop=True)\n",
    "\n",
    "    #we have our columns let's create a dataframe table\n",
    "    frame = {'past':col1, 'present':col2, 'future':col3}\n",
    "    states_data = pd.DataFrame(frame)\n",
    "    obs = states_data[states_data.present == 5]\n",
    "    cont_table = pd.crosstab(obs.past, obs.future, margins=True)\n",
    "    chi2, p, dof, ex = scipy.stats.chi2_contingency(cont_table, correction=False)\n",
    "    q = scipy.stats.chi2.ppf(0.0001, df=dof)\n",
    "\n",
    "    if pr: print(\" test statistic: {} \\n p-value: {}\\n degrees of freedom: {} \\n 5% quantile: {}\".format(chi2, p, dof, q))\n",
    "    return p #cor(obs.past, obs.future)\n"
   ]
  },
  {
   "cell_type": "code",
   "execution_count": 26,
   "metadata": {},
   "outputs": [],
   "source": [
    "nn =  np.arange(1, 1001)\n",
    "yy = [chi2_stat(i) for i in nn]"
   ]
  },
  {
   "cell_type": "code",
   "execution_count": 27,
   "metadata": {},
   "outputs": [
    {
     "data": {
      "text/plain": [
       "<matplotlib.lines.Line2D at 0x103e40d90>"
      ]
     },
     "execution_count": 27,
     "metadata": {},
     "output_type": "execute_result"
    },
    {
     "data": {
      "image/png": "[encoded data removed]",
      "text/plain": [
       "<Figure size 432x288 with 1 Axes>"
      ]
     },
     "metadata": {
      "needs_background": "light"
     },
     "output_type": "display_data"
    }
   ],
   "source": [
    "plt.plot(nn, np.abs(yy))\n",
    "\n",
    "plt.axhline(0.05, linestyle='--', color='red')\n",
    "#plt.yscale('log')\n",
    "#plt.xlim(0,200)"
   ]
  }
 ],
 "metadata": {
  "interpreter": {
   "hash": "95ec9ec1504d83f612128e0fb229072f90bbb4cb09d9d5d93b5dd26e0ca2cfd1"
  },
  "kernelspec": {
   "display_name": "Python 3.9.2 64-bit ('base': conda)",
   "name": "python3"
  },
  "language_info": {
   "codemirror_mode": {
    "name": "ipython",
    "version": 3
   },
   "file_extension": ".py",
   "mimetype": "text/x-python",
   "name": "python",
   "nbconvert_exporter": "python",
   "pygments_lexer": "ipython3",
   "version": "3.9.2"
  },
  "orig_nbformat": 4
 },
 "nbformat": 4,
 "nbformat_minor": 2
}
