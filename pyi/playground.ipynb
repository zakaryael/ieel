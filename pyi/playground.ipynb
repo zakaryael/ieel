{
 "cells": [
  {
   "cell_type": "code",
   "execution_count": 13,
   "metadata": {},
   "outputs": [
    {
     "name": "stdout",
     "output_type": "stream",
     "text": [
      "\n",
      "------------------------------------------------\n",
      "files are stored in: ./output_data/wdir3/\n",
      "initial orientation: p = (-1,0)\n",
      "k=2\tom=20\talpha=1\n",
      "iteration 0\n",
      "^C\n"
     ]
    }
   ],
   "source": [
    "!./test.py"
   ]
  },
  {
   "cell_type": "code",
   "execution_count": 1,
   "metadata": {},
   "outputs": [
    {
     "name": "stdout",
     "output_type": "stream",
     "text": [
      "\u001b[0;31mSignature:\u001b[0m \u001b[0mos\u001b[0m\u001b[0;34m.\u001b[0m\u001b[0msystem\u001b[0m\u001b[0;34m(\u001b[0m\u001b[0mcommand\u001b[0m\u001b[0;34m)\u001b[0m\u001b[0;34m\u001b[0m\u001b[0;34m\u001b[0m\u001b[0m\n",
      "\u001b[0;31mDocstring:\u001b[0m Execute the command in a subshell.\n",
      "\u001b[0;31mType:\u001b[0m      builtin_function_or_method\n"
     ]
    }
   ],
   "source": [
    "os.system?"
   ]
  },
  {
   "cell_type": "code",
   "execution_count": 2,
   "metadata": {},
   "outputs": [],
   "source": [
    "#importing libraries\n",
    "import numpy as np\n",
    "import matplotlib.pyplot as plt"
   ]
  },
  {
   "cell_type": "code",
   "execution_count": 56,
   "metadata": {},
   "outputs": [
    {
     "data": {
      "text/plain": [
       "[<matplotlib.lines.Line2D at 0x7f8da908c910>]"
      ]
     },
     "execution_count": 56,
     "metadata": {},
     "output_type": "execute_result"
    },
    {
     "data": {
      "image/png": "[encoded data removed]",
      "text/plain": [
       "<Figure size 432x288 with 1 Axes>"
      ]
     },
     "metadata": {
      "needs_background": "light"
     },
     "output_type": "display_data"
    }
   ],
   "source": [
    "#in this cell we're going to try and read the content of one of those .ff files\n",
    "\n",
    "file = open(\"./output_data/wdir24/fiber0.ff\", 'r')\n",
    "data = np.fromfile(file, dtype=float)\n",
    "Ns = 200\n",
    "position = data[0:2*(Ns+1)]\n",
    "velocity = data[2*(Ns+1): 4*(Ns+1)]\n",
    "fluid = data[4*(Ns+1):]\n",
    "position = position.reshape(Ns+1,2).T\n",
    "fluid = fluid.reshape(Ns+1, 2).T\n",
    "plt.plot(position[0], position[1])\n"
   ]
  },
  {
   "cell_type": "code",
   "execution_count": 57,
   "metadata": {},
   "outputs": [
    {
     "data": {
      "text/plain": [
       "[<matplotlib.lines.Line2D at 0x7f8da1ddb1f0>]"
      ]
     },
     "execution_count": 57,
     "metadata": {},
     "output_type": "execute_result"
    },
    {
     "data": {
      "image/png": "[encoded data removed]",
      "text/plain": [
       "<Figure size 432x288 with 1 Axes>"
      ]
     },
     "metadata": {
      "needs_background": "light"
     },
     "output_type": "display_data"
    }
   ],
   "source": [
    "plt.plot(position[0])"
   ]
  },
  {
   "cell_type": "code",
   "execution_count": 58,
   "metadata": {},
   "outputs": [],
   "source": [
    "state = (position, velocity, fluid)\n"
   ]
  },
  {
   "cell_type": "code",
   "execution_count": 69,
   "metadata": {},
   "outputs": [],
   "source": [
    "pi = [0, 1, 2, 4, 4]\n",
    "\n",
    "\n",
    "\n"
   ]
  },
  {
   "cell_type": "code",
   "execution_count": 70,
   "metadata": {},
   "outputs": [
    {
     "data": {
      "text/plain": [
       "array([[1., 0., 0., 0., 0., 0., 0.],\n",
       "       [0., 1., 0., 0., 0., 0., 0.],\n",
       "       [0., 0., 1., 0., 0., 0., 0.],\n",
       "       [0., 0., 0., 0., 1., 0., 0.],\n",
       "       [0., 0., 0., 0., 1., 0., 0.]])"
      ]
     },
     "execution_count": 70,
     "metadata": {},
     "output_type": "execute_result"
    }
   ],
   "source": [
    "det_to_sto_policy(pi)"
   ]
  },
  {
   "cell_type": "code",
   "execution_count": 73,
   "metadata": {},
   "outputs": [],
   "source": [
    "#compute center of mass\n",
    "\n",
    "def get_center(state):\n",
    "    return state[0].mean(axis=1)\n",
    "\n",
    "def get_orientation(state):\n",
    "    return [state[0][0,0] - get_center(state)[0], state[0][1,0] - get_center(state)[1]]\n",
    "\n",
    "def compute_observation(state, u0=0.1):\n",
    "    center = get_center(state)\n",
    "    orientation = get_orientation(state)[0] > 0\n",
    "    wind = (fluid[0,0] > -u0) + (fluid[0,0] > u0)\n",
    "    return wind + 3 * orientation\n",
    "\n",
    "def det_to_sto_policy(pi, number_of_actions = 7):\n",
    "    number_of_states = len(pi)\n",
    "    Pi = np.zeros((number_of_states, number_of_actions))\n",
    "    for s in range(number_of_states):\n",
    "        Pi [s, pi[s]] = 1 \n",
    "    return Pi\n",
    "\n",
    "def select_action(state, Pi):\n",
    "    prob = Pi[state]\n",
    "    return np.random.choice(np.arange(1,8), p=prob)\n",
    "\n",
    "\n",
    "\n",
    "\n",
    "\n",
    "#discretize wind where?"
   ]
  },
  {
   "cell_type": "code",
   "execution_count": 66,
   "metadata": {},
   "outputs": [
    {
     "data": {
      "text/plain": [
       "[<matplotlib.lines.Line2D at 0x7f8da91c0520>]"
      ]
     },
     "execution_count": 66,
     "metadata": {},
     "output_type": "execute_result"
    },
    {
     "data": {
      "image/png": "[encoded data removed]",
      "text/plain": [
       "<Figure size 432x288 with 1 Axes>"
      ]
     },
     "metadata": {
      "needs_background": "light"
     },
     "output_type": "display_data"
    }
   ],
   "source": [
    "plt.plot(fluid[1])"
   ]
  },
  {
   "cell_type": "code",
   "execution_count": 60,
   "metadata": {},
   "outputs": [
    {
     "data": {
      "text/plain": [
       "4"
      ]
     },
     "execution_count": 60,
     "metadata": {},
     "output_type": "execute_result"
    }
   ],
   "source": [
    "compute_observation(state)"
   ]
  },
  {
   "cell_type": "code",
   "execution_count": 41,
   "metadata": {},
   "outputs": [
    {
     "data": {
      "text/plain": [
       "array([5.03190175e-05, 6.54201459e-06])"
      ]
     },
     "execution_count": 41,
     "metadata": {},
     "output_type": "execute_result"
    }
   ],
   "source": [
    "get_center(state)"
   ]
  },
  {
   "cell_type": "code",
   "execution_count": 42,
   "metadata": {},
   "outputs": [
    {
     "data": {
      "text/plain": [
       "[0.49578974288569116, 0.0034368337535699615]"
      ]
     },
     "execution_count": 42,
     "metadata": {},
     "output_type": "execute_result"
    }
   ],
   "source": [
    "orientation(state)"
   ]
  },
  {
   "cell_type": "markdown",
   "metadata": {},
   "source": [
    "# a second step\n"
   ]
  },
  {
   "cell_type": "code",
   "execution_count": 14,
   "metadata": {},
   "outputs": [],
   "source": [
    "import os\n",
    "def mkwdir(where='../output_data'):\n",
    "    counter = 0\n",
    "    while os.path.isdir(where + '/wdir' + str(counter)): #improvement: use os.path.join()\n",
    "        counter += 1\n",
    "    path = where + '/wdir' + str(counter)\n",
    "    os.makedirs(where + '/wdir' + str(counter))\n",
    "    return path\n",
    "    \n",
    "\n",
    "def swim(wdir, iteration, action, nswim=10):\n",
    "    os.system('../runs/bin/swim -dir ' + wdir + ' -it ' + str(iteration) + ' -a ' + str(action) + '-nsw ' + str(nswim))\n",
    "    \n"
   ]
  },
  {
   "cell_type": "code",
   "execution_count": 15,
   "metadata": {},
   "outputs": [],
   "source": [
    "wdir = '../output_data/'\n",
    "swim(wdir, 4, 0)"
   ]
  },
  {
   "cell_type": "code",
   "execution_count": 29,
   "metadata": {},
   "outputs": [
    {
     "data": {
      "text/plain": [
       "'../output_data/wdir0'"
      ]
     },
     "execution_count": 29,
     "metadata": {},
     "output_type": "execute_result"
    }
   ],
   "source": [
    "mkwdir()"
   ]
  },
  {
   "cell_type": "code",
   "execution_count": 17,
   "metadata": {},
   "outputs": [],
   "source": [
    "def write_command(exec, **kwargs):\n",
    "    command = exec\n",
    "    for key, value in kwargs.items():\n",
    "        command = command + \" --\" + key + \" \" + str(value)\n",
    "    return command\n",
    "    \n"
   ]
  },
  {
   "cell_type": "code",
   "execution_count": 12,
   "metadata": {},
   "outputs": [],
   "source": [
    "exec = \"./pgsthsth\"\n",
    "args = {\"outdir\":\"../output?bla\", \"length\":1, \"zeta\":5e3}"
   ]
  },
  {
   "cell_type": "code",
   "execution_count": 24,
   "metadata": {},
   "outputs": [],
   "source": [
    "from utils import *\n",
    "wdir = mkwdir()"
   ]
  },
  {
   "cell_type": "code",
   "execution_count": 28,
   "metadata": {},
   "outputs": [
    {
     "data": {
      "text/plain": [
       "'./pgsthsth --outdir ../output/pla --zeta 5000.0 --length 1'"
      ]
     },
     "execution_count": 28,
     "metadata": {},
     "output_type": "execute_result"
    }
   ],
   "source": [
    "write_command(exec, wdir, outdir='../output/pla', zeta=5e3, length=1)"
   ]
  },
  {
   "cell_type": "code",
   "execution_count": null,
   "metadata": {},
   "outputs": [],
   "source": []
  }
 ],
 "metadata": {
  "interpreter": {
   "hash": "c6e4e9f98eb68ad3b7c296f83d20e6de614cb42e90992a65aa266555a3137d0d"
  },
  "kernelspec": {
   "display_name": "Python 3.9.2 ('base')",
   "language": "python",
   "name": "python3"
  },
  "language_info": {
   "codemirror_mode": {
    "name": "ipython",
    "version": 3
   },
   "file_extension": ".py",
   "mimetype": "text/x-python",
   "name": "python",
   "nbconvert_exporter": "python",
   "pygments_lexer": "ipython3",
   "version": "3.9.2"
  },
  "orig_nbformat": 4
 },
 "nbformat": 4,
 "nbformat_minor": 2
}
