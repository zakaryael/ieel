{
 "cells": [
  {
   "cell_type": "code",
   "execution_count": 1,
   "metadata": {},
   "outputs": [
    {
     "name": "stdout",
     "output_type": "stream",
     "text": [
      "/Users/zakaryaelkhiyati/swimmers/i-eel/pyi\n"
     ]
    }
   ],
   "source": [
    "!pwd"
   ]
  },
  {
   "cell_type": "code",
   "execution_count": 2,
   "metadata": {},
   "outputs": [],
   "source": [
    "#importing libraries\n",
    "import numpy as np\n",
    "import matplotlib.pyplot as plt"
   ]
  },
  {
   "cell_type": "code",
   "execution_count": 31,
   "metadata": {},
   "outputs": [
    {
     "data": {
      "text/plain": [
       "[<matplotlib.lines.Line2D at 0x117ca9970>]"
      ]
     },
     "execution_count": 31,
     "metadata": {},
     "output_type": "execute_result"
    },
    {
     "data": {
      "image/png": "[encoded data removed]",
      "text/plain": [
       "<Figure size 432x288 with 1 Axes>"
      ]
     },
     "metadata": {
      "needs_background": "light"
     },
     "output_type": "display_data"
    }
   ],
   "source": [
    "#in this cell we're going to try and read the content of one of those .ff files\n",
    "\n",
    "file = open(\"../output_data/fiber1.ff\", 'r')\n",
    "data = np.fromfile(file, dtype=float)\n",
    "Ns = 200\n",
    "position = data[0:2*(Ns+1)]\n",
    "velocity = data[2*(Ns+1): 4*(Ns+1)]\n",
    "fluid = data[4*(Ns+1):]\n",
    "position = position.reshape(Ns+1,2).T\n",
    "fluid = fluid.reshape(Ns+1, 2).T\n",
    "plt.plot(position[0], position[1])\n"
   ]
  },
  {
   "cell_type": "markdown",
   "metadata": {},
   "source": [
    "# a second step\n"
   ]
  },
  {
   "cell_type": "code",
   "execution_count": 28,
   "metadata": {},
   "outputs": [],
   "source": [
    "import os\n",
    "def mkwdir(where='../output_data'):\n",
    "    counter = 0\n",
    "    while os.path.isdir(where + '/wdir' + str(counter)): #improvement: use os.path.join()\n",
    "        counter += 1\n",
    "    path = where + '/wdir' + str(counter)\n",
    "    os.makedirs(where + '/wdir' + str(counter))\n",
    "    return path\n",
    "    \n",
    "\n",
    "def swim(wdir, iteration, action, nswim=10):\n",
    "    os.system('../runs/bin/swim -dir ' + wdir + ' -it ' + str(iteration) + ' -a ' + str(action) + '-nsw' + str(nswim))\n",
    "    \n"
   ]
  },
  {
   "cell_type": "code",
   "execution_count": 15,
   "metadata": {},
   "outputs": [],
   "source": [
    "wdir = '../output_data/'\n",
    "swim(wdir, 4, 0)"
   ]
  },
  {
   "cell_type": "code",
   "execution_count": 29,
   "metadata": {},
   "outputs": [
    {
     "data": {
      "text/plain": [
       "'../output_data/wdir0'"
      ]
     },
     "execution_count": 29,
     "metadata": {},
     "output_type": "execute_result"
    }
   ],
   "source": [
    "mkwdir()"
   ]
  }
 ],
 "metadata": {
  "interpreter": {
   "hash": "c6e4e9f98eb68ad3b7c296f83d20e6de614cb42e90992a65aa266555a3137d0d"
  },
  "kernelspec": {
   "display_name": "Python 3.9.2 ('base')",
   "language": "python",
   "name": "python3"
  },
  "language_info": {
   "codemirror_mode": {
    "name": "ipython",
    "version": 3
   },
   "file_extension": ".py",
   "mimetype": "text/x-python",
   "name": "python",
   "nbconvert_exporter": "python",
   "pygments_lexer": "ipython3",
   "version": "3.9.2"
  },
  "orig_nbformat": 4
 },
 "nbformat": 4,
 "nbformat_minor": 2
}
